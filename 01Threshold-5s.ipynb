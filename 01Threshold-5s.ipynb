{
 "cells": [
  {
   "cell_type": "code",
   "execution_count": 1,
   "id": "75629290",
   "metadata": {},
   "outputs": [],
   "source": [
    "import pandas as pd\n",
    "import numpy as np\n",
    "import matplotlib.pyplot as plt\n",
    "import seaborn as sns"
   ]
  },
  {
   "cell_type": "code",
   "execution_count": 2,
   "id": "54abee72",
   "metadata": {},
   "outputs": [],
   "source": [
    "# Read Training Set\n",
    "df = pd.read_csv('train.csv',dtype={\n",
    "                             'ip': np.uint8,\n",
    "                             'app': np.uint8,\n",
    "                             'device' : np.uint8,\n",
    "                             'os' : np.uint8,\n",
    "                             'channel' : np.uint8,\n",
    "                             'is_attributed' : np.uint8    \n",
    "                        },parse_dates=['click_time'])"
   ]
  },
  {
   "cell_type": "code",
   "execution_count": 3,
   "id": "141d237e",
   "metadata": {},
   "outputs": [],
   "source": [
    "df['day'] = df['click_time'].dt.day.astype('uint8')\n",
    "# Sample Data\n",
    "df = df[df['day']==7]"
   ]
  },
  {
   "cell_type": "code",
   "execution_count": 4,
   "id": "52b11362",
   "metadata": {},
   "outputs": [],
   "source": [
    "df['hour'] = df['click_time'].dt.hour.astype('uint8')\n",
    "df['minute'] = df['click_time'].dt.minute.astype('uint8')\n",
    "df['second'] = df['click_time'].dt.second.astype('uint8')\n",
    "\n",
    "#Edit minute variable to two-digit string\n",
    "df['minute'] = df['minute'].apply(lambda x: '{0:0>2}'.format(x))"
   ]
  },
  {
   "cell_type": "code",
   "execution_count": 5,
   "id": "4312c628",
   "metadata": {},
   "outputs": [
    {
     "data": {
      "text/html": [
       "<div>\n",
       "<style scoped>\n",
       "    .dataframe tbody tr th:only-of-type {\n",
       "        vertical-align: middle;\n",
       "    }\n",
       "\n",
       "    .dataframe tbody tr th {\n",
       "        vertical-align: top;\n",
       "    }\n",
       "\n",
       "    .dataframe thead th {\n",
       "        text-align: right;\n",
       "    }\n",
       "</style>\n",
       "<table border=\"1\" class=\"dataframe\">\n",
       "  <thead>\n",
       "    <tr style=\"text-align: right;\">\n",
       "      <th></th>\n",
       "      <th>ip</th>\n",
       "      <th>app</th>\n",
       "      <th>device</th>\n",
       "      <th>os</th>\n",
       "      <th>channel</th>\n",
       "      <th>click_time</th>\n",
       "      <th>attributed_time</th>\n",
       "      <th>is_attributed</th>\n",
       "      <th>day</th>\n",
       "      <th>hour</th>\n",
       "      <th>minute</th>\n",
       "      <th>second</th>\n",
       "      <th>seconds_grp</th>\n",
       "      <th>interval</th>\n",
       "    </tr>\n",
       "  </thead>\n",
       "  <tbody>\n",
       "    <tr>\n",
       "      <th>12015416</th>\n",
       "      <td>191</td>\n",
       "      <td>3</td>\n",
       "      <td>1</td>\n",
       "      <td>3</td>\n",
       "      <td>123</td>\n",
       "      <td>2017-11-07 00:44:42</td>\n",
       "      <td>NaN</td>\n",
       "      <td>0</td>\n",
       "      <td>7</td>\n",
       "      <td>0</td>\n",
       "      <td>44</td>\n",
       "      <td>42</td>\n",
       "      <td>9</td>\n",
       "      <td>0449</td>\n",
       "    </tr>\n",
       "    <tr>\n",
       "      <th>35978860</th>\n",
       "      <td>229</td>\n",
       "      <td>3</td>\n",
       "      <td>1</td>\n",
       "      <td>25</td>\n",
       "      <td>135</td>\n",
       "      <td>2017-11-07 08:14:51</td>\n",
       "      <td>NaN</td>\n",
       "      <td>0</td>\n",
       "      <td>7</td>\n",
       "      <td>8</td>\n",
       "      <td>14</td>\n",
       "      <td>51</td>\n",
       "      <td>11</td>\n",
       "      <td>81411</td>\n",
       "    </tr>\n",
       "    <tr>\n",
       "      <th>17179375</th>\n",
       "      <td>26</td>\n",
       "      <td>64</td>\n",
       "      <td>1</td>\n",
       "      <td>41</td>\n",
       "      <td>203</td>\n",
       "      <td>2017-11-07 02:18:11</td>\n",
       "      <td>NaN</td>\n",
       "      <td>0</td>\n",
       "      <td>7</td>\n",
       "      <td>2</td>\n",
       "      <td>18</td>\n",
       "      <td>11</td>\n",
       "      <td>3</td>\n",
       "      <td>2183</td>\n",
       "    </tr>\n",
       "    <tr>\n",
       "      <th>42689690</th>\n",
       "      <td>0</td>\n",
       "      <td>9</td>\n",
       "      <td>1</td>\n",
       "      <td>20</td>\n",
       "      <td>78</td>\n",
       "      <td>2017-11-07 10:31:06</td>\n",
       "      <td>NaN</td>\n",
       "      <td>0</td>\n",
       "      <td>7</td>\n",
       "      <td>10</td>\n",
       "      <td>31</td>\n",
       "      <td>6</td>\n",
       "      <td>2</td>\n",
       "      <td>10312</td>\n",
       "    </tr>\n",
       "    <tr>\n",
       "      <th>58343432</th>\n",
       "      <td>224</td>\n",
       "      <td>12</td>\n",
       "      <td>1</td>\n",
       "      <td>19</td>\n",
       "      <td>72</td>\n",
       "      <td>2017-11-07 15:29:58</td>\n",
       "      <td>NaN</td>\n",
       "      <td>0</td>\n",
       "      <td>7</td>\n",
       "      <td>15</td>\n",
       "      <td>29</td>\n",
       "      <td>58</td>\n",
       "      <td>12</td>\n",
       "      <td>152912</td>\n",
       "    </tr>\n",
       "  </tbody>\n",
       "</table>\n",
       "</div>"
      ],
      "text/plain": [
       "           ip  app  device  os  channel          click_time attributed_time  \\\n",
       "12015416  191    3       1   3      123 2017-11-07 00:44:42             NaN   \n",
       "35978860  229    3       1  25      135 2017-11-07 08:14:51             NaN   \n",
       "17179375   26   64       1  41      203 2017-11-07 02:18:11             NaN   \n",
       "42689690    0    9       1  20       78 2017-11-07 10:31:06             NaN   \n",
       "58343432  224   12       1  19       72 2017-11-07 15:29:58             NaN   \n",
       "\n",
       "          is_attributed  day  hour minute  second seconds_grp interval  \n",
       "12015416              0    7     0     44      42           9     0449  \n",
       "35978860              0    7     8     14      51          11    81411  \n",
       "17179375              0    7     2     18      11           3     2183  \n",
       "42689690              0    7    10     31       6           2    10312  \n",
       "58343432              0    7    15     29      58          12   152912  "
      ]
     },
     "execution_count": 5,
     "metadata": {},
     "output_type": "execute_result"
    }
   ],
   "source": [
    "ranges = [-1, 4, 9, 14, 19, 24, 29, 34, 39, 44, 49, 54, np.inf]  # np.inf for infinity\n",
    "labels = ['1', '2', '3', '4', '5', '6', '7', '8', '9', '10', '11', '12']\n",
    "df['seconds_grp'] = pd.cut(df['second'], \n",
    "                                  bins=ranges, \n",
    "                                  labels=labels)\n",
    "df['interval'] = df['hour'].astype(str) + df['minute'].astype(str) + df['seconds_grp'].astype(str)\n",
    "#df['interval'] = df['interval'].astype('uint32')\n",
    "\n",
    "df.sample(5)"
   ]
  },
  {
   "cell_type": "code",
   "execution_count": 6,
   "id": "50bf8031",
   "metadata": {},
   "outputs": [
    {
     "data": {
      "text/html": [
       "<div>\n",
       "<style scoped>\n",
       "    .dataframe tbody tr th:only-of-type {\n",
       "        vertical-align: middle;\n",
       "    }\n",
       "\n",
       "    .dataframe tbody tr th {\n",
       "        vertical-align: top;\n",
       "    }\n",
       "\n",
       "    .dataframe thead th {\n",
       "        text-align: right;\n",
       "    }\n",
       "</style>\n",
       "<table border=\"1\" class=\"dataframe\">\n",
       "  <thead>\n",
       "    <tr style=\"text-align: right;\">\n",
       "      <th></th>\n",
       "      <th>total_dl</th>\n",
       "      <th>total_clicks</th>\n",
       "    </tr>\n",
       "    <tr>\n",
       "      <th>interval</th>\n",
       "      <th></th>\n",
       "      <th></th>\n",
       "    </tr>\n",
       "  </thead>\n",
       "  <tbody>\n",
       "    <tr>\n",
       "      <th>3272</th>\n",
       "      <td>8</td>\n",
       "      <td>4266</td>\n",
       "    </tr>\n",
       "    <tr>\n",
       "      <th>3021</th>\n",
       "      <td>29</td>\n",
       "      <td>4182</td>\n",
       "    </tr>\n",
       "    <tr>\n",
       "      <th>12599</th>\n",
       "      <td>9</td>\n",
       "      <td>4100</td>\n",
       "    </tr>\n",
       "    <tr>\n",
       "      <th>2579</th>\n",
       "      <td>15</td>\n",
       "      <td>4368</td>\n",
       "    </tr>\n",
       "    <tr>\n",
       "      <th>18411</th>\n",
       "      <td>2</td>\n",
       "      <td>919</td>\n",
       "    </tr>\n",
       "  </tbody>\n",
       "</table>\n",
       "</div>"
      ],
      "text/plain": [
       "          total_dl  total_clicks\n",
       "interval                        \n",
       "3272             8          4266\n",
       "3021            29          4182\n",
       "12599            9          4100\n",
       "2579            15          4368\n",
       "18411            2           919"
      ]
     },
     "execution_count": 6,
     "metadata": {},
     "output_type": "execute_result"
    }
   ],
   "source": [
    "df_interval = df.groupby(\n",
    "    'interval'\n",
    ").aggregate(\n",
    "    {\n",
    "        'is_attributed':sum,\n",
    "        'click_time':\"count\"\n",
    "    }\n",
    ").rename(\n",
    "    columns = {\n",
    "        'is_attributed': 'total_dl', \n",
    "        'click_time': 'total_clicks'\n",
    "    }, \n",
    "    inplace = False)\n",
    "df_interval.sample(5)"
   ]
  },
  {
   "cell_type": "code",
   "execution_count": 7,
   "id": "54b372c8",
   "metadata": {},
   "outputs": [
    {
     "data": {
      "text/html": [
       "<div>\n",
       "<style scoped>\n",
       "    .dataframe tbody tr th:only-of-type {\n",
       "        vertical-align: middle;\n",
       "    }\n",
       "\n",
       "    .dataframe tbody tr th {\n",
       "        vertical-align: top;\n",
       "    }\n",
       "\n",
       "    .dataframe thead th {\n",
       "        text-align: right;\n",
       "    }\n",
       "</style>\n",
       "<table border=\"1\" class=\"dataframe\">\n",
       "  <thead>\n",
       "    <tr style=\"text-align: right;\">\n",
       "      <th></th>\n",
       "      <th>interval</th>\n",
       "      <th>total_dl</th>\n",
       "      <th>total_clicks</th>\n",
       "      <th>conversion_rate</th>\n",
       "      <th>ratio</th>\n",
       "    </tr>\n",
       "  </thead>\n",
       "  <tbody>\n",
       "    <tr>\n",
       "      <th>0</th>\n",
       "      <td>0001</td>\n",
       "      <td>9</td>\n",
       "      <td>3831</td>\n",
       "      <td>0.002349</td>\n",
       "      <td>425.666667</td>\n",
       "    </tr>\n",
       "    <tr>\n",
       "      <th>1</th>\n",
       "      <td>00010</td>\n",
       "      <td>5</td>\n",
       "      <td>4607</td>\n",
       "      <td>0.001085</td>\n",
       "      <td>921.400000</td>\n",
       "    </tr>\n",
       "    <tr>\n",
       "      <th>2</th>\n",
       "      <td>00011</td>\n",
       "      <td>4</td>\n",
       "      <td>4834</td>\n",
       "      <td>0.000827</td>\n",
       "      <td>1208.500000</td>\n",
       "    </tr>\n",
       "    <tr>\n",
       "      <th>3</th>\n",
       "      <td>00012</td>\n",
       "      <td>7</td>\n",
       "      <td>4812</td>\n",
       "      <td>0.001455</td>\n",
       "      <td>687.428571</td>\n",
       "    </tr>\n",
       "    <tr>\n",
       "      <th>4</th>\n",
       "      <td>0002</td>\n",
       "      <td>4</td>\n",
       "      <td>4767</td>\n",
       "      <td>0.000839</td>\n",
       "      <td>1191.750000</td>\n",
       "    </tr>\n",
       "  </tbody>\n",
       "</table>\n",
       "</div>"
      ],
      "text/plain": [
       "  interval  total_dl  total_clicks  conversion_rate        ratio\n",
       "0     0001         9          3831         0.002349   425.666667\n",
       "1    00010         5          4607         0.001085   921.400000\n",
       "2    00011         4          4834         0.000827  1208.500000\n",
       "3    00012         7          4812         0.001455   687.428571\n",
       "4     0002         4          4767         0.000839  1191.750000"
      ]
     },
     "execution_count": 7,
     "metadata": {},
     "output_type": "execute_result"
    }
   ],
   "source": [
    "df_interval['conversion_rate'] = df_interval['total_dl']/df_interval['total_clicks']\n",
    "df_interval['ratio'] = df_interval['total_clicks']/df_interval['total_dl']\n",
    "df_interval.reset_index(level=0, inplace=True)\n",
    "df_interval.head()"
   ]
  },
  {
   "cell_type": "code",
   "execution_count": 8,
   "id": "e74794bb",
   "metadata": {},
   "outputs": [
    {
     "data": {
      "text/plain": [
       "interval            object\n",
       "total_dl             uint8\n",
       "total_clicks         int64\n",
       "conversion_rate    float64\n",
       "ratio              float64\n",
       "dtype: object"
      ]
     },
     "execution_count": 8,
     "metadata": {},
     "output_type": "execute_result"
    }
   ],
   "source": [
    "df_interval.dtypes"
   ]
  },
  {
   "cell_type": "code",
   "execution_count": 9,
   "id": "73a4cb50",
   "metadata": {},
   "outputs": [
    {
     "data": {
      "image/png": "[encoded data removed]",
      "text/plain": [
       "<Figure size 432x288 with 1 Axes>"
      ]
     },
     "metadata": {
      "needs_background": "light"
     },
     "output_type": "display_data"
    }
   ],
   "source": [
    "df_interval.plot(x ='interval', y='conversion_rate', kind = 'line')\n",
    "plt.show()"
   ]
  },
  {
   "cell_type": "code",
   "execution_count": 10,
   "id": "f77a1de5",
   "metadata": {},
   "outputs": [
    {
     "data": {
      "image/png": "[encoded data removed]",
      "text/plain": [
       "<Figure size 432x288 with 1 Axes>"
      ]
     },
     "metadata": {
      "needs_background": "light"
     },
     "output_type": "display_data"
    }
   ],
   "source": [
    "df_interval.plot(x ='interval', y='ratio', kind = 'line')\n",
    "plt.show()"
   ]
  },
  {
   "cell_type": "code",
   "execution_count": 11,
   "id": "c2634a0d",
   "metadata": {},
   "outputs": [
    {
     "data": {
      "image/png": "[encoded data removed]",
      "text/plain": [
       "<Figure size 432x288 with 1 Axes>"
      ]
     },
     "metadata": {
      "needs_background": "light"
     },
     "output_type": "display_data"
    }
   ],
   "source": [
    "df_interval.plot(x ='interval', y='total_clicks', kind = 'line')\n",
    "plt.show()"
   ]
  },
  {
   "cell_type": "code",
   "execution_count": 12,
   "id": "2487172d",
   "metadata": {},
   "outputs": [
    {
     "name": "stdout",
     "output_type": "stream",
     "text": [
      "1250.0\n"
     ]
    }
   ],
   "source": [
    "#threshold for fraud total clicks\n",
    "co = df_interval[df_interval['conversion_rate']==0]\n",
    "Q1 = co.total_clicks.quantile(0.25)\n",
    "Q3 = co.total_clicks.quantile(0.75)\n",
    "IQR = Q3 - Q1\n",
    "click_outlier = Q3 + 1.5 * IQR\n",
    "print(click_outlier)"
   ]
  },
  {
   "cell_type": "code",
   "execution_count": 13,
   "id": "896769e3",
   "metadata": {},
   "outputs": [
    {
     "name": "stdout",
     "output_type": "stream",
     "text": [
      "939.8804563492063\n"
     ]
    }
   ],
   "source": [
    "#threshold for fraud total clicks\n",
    "ro = df_interval[df_interval['conversion_rate']!=0]\n",
    "Q1 = ro.ratio.quantile(0.25)\n",
    "Q3 = ro.ratio.quantile(0.75)\n",
    "IQR = Q3 - Q1\n",
    "ratio_outlier = Q3 + 1.5 * IQR\n",
    "print(ratio_outlier)"
   ]
  },
  {
   "cell_type": "code",
   "execution_count": 14,
   "id": "79b531f0",
   "metadata": {},
   "outputs": [
    {
     "data": {
      "text/plain": [
       "0.06474358974358975"
      ]
     },
     "execution_count": 14,
     "metadata": {},
     "output_type": "execute_result"
    }
   ],
   "source": [
    "# apply to df_interval\n",
    "df_interval.loc[(df_interval['total_dl'] == 0) & (df_interval['total_clicks'] > click_outlier), 'isFraud'] = 1\n",
    "df_interval.loc[(df_interval['total_dl'] != 0) & (df_interval['ratio'] > ratio_outlier), 'isFraud'] = 1\n",
    "df_interval.loc[(df_interval['isFraud'].isnull()), 'isFraud'] = 0\n",
    "\n",
    "# event rate on df_interval\n",
    "df_interval.isFraud.sum()/len(df_interval)"
   ]
  },
  {
   "cell_type": "code",
   "execution_count": 15,
   "id": "114e0e16",
   "metadata": {},
   "outputs": [
    {
     "data": {
      "text/plain": [
       "0.05613631039430815"
      ]
     },
     "execution_count": 15,
     "metadata": {},
     "output_type": "execute_result"
    }
   ],
   "source": [
    "# apply to df\n",
    "df = pd.merge(df, df_interval[['interval', 'isFraud']], on='interval', how='left')\n",
    "\n",
    "# event rate on df\n",
    "df.isFraud.sum()/len(df)"
   ]
  }
 ],
 "metadata": {
  "kernelspec": {
   "display_name": "Python 3",
   "language": "python",
   "name": "python3"
  },
  "language_info": {
   "codemirror_mode": {
    "name": "ipython",
    "version": 3
   },
   "file_extension": ".py",
   "mimetype": "text/x-python",
   "name": "python",
   "nbconvert_exporter": "python",
   "pygments_lexer": "ipython3",
   "version": "3.8.8"
  }
 },
 "nbformat": 4,
 "nbformat_minor": 5
}
